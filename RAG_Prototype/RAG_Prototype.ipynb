{
 "cells": [
  {
   "cell_type": "markdown",
   "id": "c29b97a6",
   "metadata": {},
   "source": [
    "# RAG Prototype\n",
    "\n",
    "This notebook includes a RAG Prototype which reads text files containing book descriptions and create embeddings based on the book description and then store them in a vector DB\n",
    "\n",
    "- read book descriptions from the text files stored under data/\n",
    "- use fastembed to create the vector embedding for each book description\n",
    "- store the embeddings and the book metadata in a local weaviate database\n"
   ]
  },
  {
   "cell_type": "markdown",
   "id": "1a288be1",
   "metadata": {},
   "source": [
    "Import libraries"
   ]
  },
  {
   "cell_type": "code",
   "execution_count": 16,
   "id": "bfc37574",
   "metadata": {},
   "outputs": [
    {
     "name": "stderr",
     "output_type": "stream",
     "text": [
      "huggingface/tokenizers: The current process just got forked, after parallelism has already been used. Disabling parallelism to avoid deadlocks...\n",
      "To disable this warning, you can either:\n",
      "\t- Avoid using `tokenizers` before the fork if possible\n",
      "\t- Explicitly set the environment variable TOKENIZERS_PARALLELISM=(true | false)\n"
     ]
    }
   ],
   "source": [
    "%%capture\n",
    "%pip install fastembed weaviate-client ipython"
   ]
  },
  {
   "cell_type": "code",
   "execution_count": 17,
   "id": "d7a3c76e",
   "metadata": {},
   "outputs": [],
   "source": [
    "# Warning control\n",
    "import warnings\n",
    "warnings.filterwarnings('ignore')"
   ]
  },
  {
   "cell_type": "code",
   "execution_count": 18,
   "id": "2f5ee623",
   "metadata": {},
   "outputs": [],
   "source": [
    "import os\n",
    "import json\n",
    "from IPython.display import JSON\n",
    "\n",
    "from fastembed import TextEmbedding\n",
    "\n",
    "import weaviate\n",
    "from weaviate.classes.data import DataObject\n",
    "\n",
    "from helper import suppress_output"
   ]
  },
  {
   "cell_type": "markdown",
   "id": "4b9393da",
   "metadata": {},
   "source": [
    "Set variables"
   ]
  },
  {
   "cell_type": "code",
   "execution_count": 19,
   "id": "4552b554",
   "metadata": {},
   "outputs": [],
   "source": [
    "COLLECTION_NAME = \"Books\"  # capitalize the first letter of collection names\n",
    "BOOK_DESCRIPTION_FOLDER = \"data/\"\n",
    "EMBEDDING_MODEL_NAME = \"BAAI/bge-small-en-v1.5\""
   ]
  },
  {
   "cell_type": "markdown",
   "id": "c9ce35be",
   "metadata": {},
   "source": [
    "Instantiate Embedded Weaviate client"
   ]
  },
  {
   "cell_type": "code",
   "execution_count": 20,
   "id": "8f34d085",
   "metadata": {},
   "outputs": [
    {
     "ename": "WeaviateStartUpError",
     "evalue": "Embedded DB did not start because processes are already listening on ports http:8079 and grpc:50050use weaviate.connect_to_local(port=8079, grpc_port=50050) to connect to the existing instance",
     "output_type": "error",
     "traceback": [
      "\u001b[0;31m---------------------------------------------------------------------------\u001b[0m",
      "\u001b[0;31mWeaviateStartUpError\u001b[0m                      Traceback (most recent call last)",
      "Cell \u001b[0;32mIn[20], line 2\u001b[0m\n\u001b[1;32m      1\u001b[0m \u001b[38;5;28;01mwith\u001b[39;00m suppress_output():\n\u001b[0;32m----> 2\u001b[0m     client \u001b[38;5;241m=\u001b[39m \u001b[43mweaviate\u001b[49m\u001b[38;5;241;43m.\u001b[39;49m\u001b[43mconnect_to_embedded\u001b[49m\u001b[43m(\u001b[49m\n\u001b[1;32m      3\u001b[0m \u001b[43m        \u001b[49m\u001b[43mpersistence_data_path\u001b[49m\u001b[38;5;241;43m=\u001b[39;49m\u001b[43m \u001b[49m\u001b[38;5;124;43m\"\u001b[39;49m\u001b[38;5;124;43mtmp/weaviate\u001b[39;49m\u001b[38;5;124;43m\"\u001b[39;49m\u001b[43m,\u001b[49m\n\u001b[1;32m      4\u001b[0m \u001b[43m    \u001b[49m\u001b[43m)\u001b[49m\n\u001b[1;32m      5\u001b[0m \u001b[38;5;28mprint\u001b[39m(\u001b[38;5;124m\"\u001b[39m\u001b[38;5;124mStarted new embedded Weaviate instance.\u001b[39m\u001b[38;5;124m\"\u001b[39m)\n\u001b[1;32m      6\u001b[0m \u001b[38;5;28mprint\u001b[39m(\u001b[38;5;124mf\u001b[39m\u001b[38;5;124m\"\u001b[39m\u001b[38;5;124mClient is ready: \u001b[39m\u001b[38;5;132;01m{\u001b[39;00mclient\u001b[38;5;241m.\u001b[39mis_ready()\u001b[38;5;132;01m}\u001b[39;00m\u001b[38;5;124m\"\u001b[39m)\n",
      "File \u001b[0;32m~/Desktop/Orchestrating-workflows-for-GenAI-Applications/.venv/lib/python3.10/site-packages/weaviate/connect/helpers.py:266\u001b[0m, in \u001b[0;36mconnect_to_embedded\u001b[0;34m(hostname, port, grpc_port, headers, additional_config, version, persistence_data_path, binary_path, environment_variables)\u001b[0m\n\u001b[1;32m    264\u001b[0m \u001b[38;5;28;01mif\u001b[39;00m binary_path \u001b[38;5;129;01mis\u001b[39;00m \u001b[38;5;129;01mnot\u001b[39;00m \u001b[38;5;28;01mNone\u001b[39;00m:\n\u001b[1;32m    265\u001b[0m     options\u001b[38;5;241m.\u001b[39mbinary_path \u001b[38;5;241m=\u001b[39m binary_path\n\u001b[0;32m--> 266\u001b[0m client \u001b[38;5;241m=\u001b[39m \u001b[43mWeaviateClient\u001b[49m\u001b[43m(\u001b[49m\n\u001b[1;32m    267\u001b[0m \u001b[43m    \u001b[49m\u001b[43membedded_options\u001b[49m\u001b[38;5;241;43m=\u001b[39;49m\u001b[43moptions\u001b[49m\u001b[43m,\u001b[49m\n\u001b[1;32m    268\u001b[0m \u001b[43m    \u001b[49m\u001b[43madditional_headers\u001b[49m\u001b[38;5;241;43m=\u001b[39;49m\u001b[43mheaders\u001b[49m\u001b[43m,\u001b[49m\n\u001b[1;32m    269\u001b[0m \u001b[43m    \u001b[49m\u001b[43madditional_config\u001b[49m\u001b[38;5;241;43m=\u001b[39;49m\u001b[43madditional_config\u001b[49m\u001b[43m,\u001b[49m\n\u001b[1;32m    270\u001b[0m \u001b[43m\u001b[49m\u001b[43m)\u001b[49m\n\u001b[1;32m    271\u001b[0m \u001b[38;5;28;01mreturn\u001b[39;00m __connect(client)\n",
      "File \u001b[0;32m~/Desktop/Orchestrating-workflows-for-GenAI-Applications/.venv/lib/python3.10/site-packages/weaviate/client.py:131\u001b[0m, in \u001b[0;36mWeaviateClient.__init__\u001b[0;34m(self, connection_params, embedded_options, auth_client_secret, additional_headers, additional_config, skip_init_checks)\u001b[0m\n\u001b[1;32m    121\u001b[0m \u001b[38;5;28;01mdef\u001b[39;00m\u001b[38;5;250m \u001b[39m\u001b[38;5;21m__init__\u001b[39m(\n\u001b[1;32m    122\u001b[0m     \u001b[38;5;28mself\u001b[39m,\n\u001b[1;32m    123\u001b[0m     connection_params: Optional[ConnectionParams] \u001b[38;5;241m=\u001b[39m \u001b[38;5;28;01mNone\u001b[39;00m,\n\u001b[0;32m   (...)\u001b[0m\n\u001b[1;32m    128\u001b[0m     skip_init_checks: \u001b[38;5;28mbool\u001b[39m \u001b[38;5;241m=\u001b[39m \u001b[38;5;28;01mFalse\u001b[39;00m,\n\u001b[1;32m    129\u001b[0m ) \u001b[38;5;241m-\u001b[39m\u001b[38;5;241m>\u001b[39m \u001b[38;5;28;01mNone\u001b[39;00m:\n\u001b[1;32m    130\u001b[0m     \u001b[38;5;28mself\u001b[39m\u001b[38;5;241m.\u001b[39m_connection_type \u001b[38;5;241m=\u001b[39m ConnectionSync\n\u001b[0;32m--> 131\u001b[0m     \u001b[38;5;28;43msuper\u001b[39;49m\u001b[43m(\u001b[49m\u001b[43m)\u001b[49m\u001b[38;5;241;43m.\u001b[39;49m\u001b[38;5;21;43m__init__\u001b[39;49m\u001b[43m(\u001b[49m\n\u001b[1;32m    132\u001b[0m \u001b[43m        \u001b[49m\u001b[43mconnection_params\u001b[49m\u001b[38;5;241;43m=\u001b[39;49m\u001b[43mconnection_params\u001b[49m\u001b[43m,\u001b[49m\n\u001b[1;32m    133\u001b[0m \u001b[43m        \u001b[49m\u001b[43membedded_options\u001b[49m\u001b[38;5;241;43m=\u001b[39;49m\u001b[43membedded_options\u001b[49m\u001b[43m,\u001b[49m\n\u001b[1;32m    134\u001b[0m \u001b[43m        \u001b[49m\u001b[43mauth_client_secret\u001b[49m\u001b[38;5;241;43m=\u001b[39;49m\u001b[43mauth_client_secret\u001b[49m\u001b[43m,\u001b[49m\n\u001b[1;32m    135\u001b[0m \u001b[43m        \u001b[49m\u001b[43madditional_headers\u001b[49m\u001b[38;5;241;43m=\u001b[39;49m\u001b[43madditional_headers\u001b[49m\u001b[43m,\u001b[49m\n\u001b[1;32m    136\u001b[0m \u001b[43m        \u001b[49m\u001b[43madditional_config\u001b[49m\u001b[38;5;241;43m=\u001b[39;49m\u001b[43madditional_config\u001b[49m\u001b[43m,\u001b[49m\n\u001b[1;32m    137\u001b[0m \u001b[43m        \u001b[49m\u001b[43mskip_init_checks\u001b[49m\u001b[38;5;241;43m=\u001b[39;49m\u001b[43mskip_init_checks\u001b[49m\u001b[43m,\u001b[49m\n\u001b[1;32m    138\u001b[0m \u001b[43m    \u001b[49m\u001b[43m)\u001b[49m\n\u001b[1;32m    140\u001b[0m     collections \u001b[38;5;241m=\u001b[39m _Collections(\u001b[38;5;28mself\u001b[39m\u001b[38;5;241m.\u001b[39m_connection)\n\u001b[1;32m    142\u001b[0m     \u001b[38;5;28mself\u001b[39m\u001b[38;5;241m.\u001b[39mbatch \u001b[38;5;241m=\u001b[39m _BatchClientWrapper(\u001b[38;5;28mself\u001b[39m\u001b[38;5;241m.\u001b[39m_connection, config\u001b[38;5;241m=\u001b[39mcollections)\n",
      "File \u001b[0;32m~/Desktop/Orchestrating-workflows-for-GenAI-Applications/.venv/lib/python3.10/site-packages/weaviate/client_executor.py:67\u001b[0m, in \u001b[0;36m_WeaviateClientExecutor.__init__\u001b[0;34m(self, connection_params, embedded_options, auth_client_secret, additional_headers, additional_config, skip_init_checks)\u001b[0m\n\u001b[1;32m     37\u001b[0m \u001b[38;5;28;01mdef\u001b[39;00m\u001b[38;5;250m \u001b[39m\u001b[38;5;21m__init__\u001b[39m(\n\u001b[1;32m     38\u001b[0m     \u001b[38;5;28mself\u001b[39m,\n\u001b[1;32m     39\u001b[0m     connection_params: Optional[ConnectionParams] \u001b[38;5;241m=\u001b[39m \u001b[38;5;28;01mNone\u001b[39;00m,\n\u001b[0;32m   (...)\u001b[0m\n\u001b[1;32m     44\u001b[0m     skip_init_checks: \u001b[38;5;28mbool\u001b[39m \u001b[38;5;241m=\u001b[39m \u001b[38;5;28;01mFalse\u001b[39;00m,\n\u001b[1;32m     45\u001b[0m ) \u001b[38;5;241m-\u001b[39m\u001b[38;5;241m>\u001b[39m \u001b[38;5;28;01mNone\u001b[39;00m:\n\u001b[1;32m     46\u001b[0m \u001b[38;5;250m    \u001b[39m\u001b[38;5;124;03m\"\"\"Initialise a WeaviateClient/WeaviateClientAsync class instance to use when interacting with Weaviate.\u001b[39;00m\n\u001b[1;32m     47\u001b[0m \n\u001b[1;32m     48\u001b[0m \u001b[38;5;124;03m    Use this specific initializer when you want to create a custom Client specific to your Weaviate setup.\u001b[39;00m\n\u001b[0;32m   (...)\u001b[0m\n\u001b[1;32m     65\u001b[0m \u001b[38;5;124;03m            This is useful for air-gapped environments and high-performance setups.\u001b[39;00m\n\u001b[1;32m     66\u001b[0m \u001b[38;5;124;03m    \"\"\"\u001b[39;00m\n\u001b[0;32m---> 67\u001b[0m     connection_params, embedded_db \u001b[38;5;241m=\u001b[39m \u001b[38;5;28;43mself\u001b[39;49m\u001b[38;5;241;43m.\u001b[39;49m\u001b[43m__parse_connection_params_and_embedded_db\u001b[49m\u001b[43m(\u001b[49m\n\u001b[1;32m     68\u001b[0m \u001b[43m        \u001b[49m\u001b[43mconnection_params\u001b[49m\u001b[43m,\u001b[49m\u001b[43m \u001b[49m\u001b[43membedded_options\u001b[49m\n\u001b[1;32m     69\u001b[0m \u001b[43m    \u001b[49m\u001b[43m)\u001b[49m\n\u001b[1;32m     70\u001b[0m     config \u001b[38;5;241m=\u001b[39m additional_config \u001b[38;5;129;01mor\u001b[39;00m AdditionalConfig()\n\u001b[1;32m     72\u001b[0m     \u001b[38;5;28mself\u001b[39m\u001b[38;5;241m.\u001b[39m_connection \u001b[38;5;241m=\u001b[39m \u001b[38;5;28mself\u001b[39m\u001b[38;5;241m.\u001b[39m_connection_type(  \u001b[38;5;66;03m# pyright: ignore reportIncompatibleVariableOverride\u001b[39;00m\n\u001b[1;32m     73\u001b[0m         connection_params\u001b[38;5;241m=\u001b[39mconnection_params,\n\u001b[1;32m     74\u001b[0m         auth_client_secret\u001b[38;5;241m=\u001b[39mauth_client_secret,\n\u001b[0;32m   (...)\u001b[0m\n\u001b[1;32m     81\u001b[0m         skip_init_checks\u001b[38;5;241m=\u001b[39mskip_init_checks,\n\u001b[1;32m     82\u001b[0m     )\n",
      "File \u001b[0;32m~/Desktop/Orchestrating-workflows-for-GenAI-Applications/.venv/lib/python3.10/site-packages/weaviate/client_executor.py:104\u001b[0m, in \u001b[0;36m_WeaviateClientExecutor.__parse_connection_params_and_embedded_db\u001b[0;34m(self, connection_params, embedded_options)\u001b[0m\n\u001b[1;32m     99\u001b[0m     _validate_input(\n\u001b[1;32m    100\u001b[0m         _ValidateArgument([EmbeddedOptions], \u001b[38;5;124m\"\u001b[39m\u001b[38;5;124membedded_options\u001b[39m\u001b[38;5;124m\"\u001b[39m, embedded_options)\n\u001b[1;32m    101\u001b[0m     )\n\u001b[1;32m    103\u001b[0m     embedded_db \u001b[38;5;241m=\u001b[39m EmbeddedV4(options\u001b[38;5;241m=\u001b[39membedded_options)\n\u001b[0;32m--> 104\u001b[0m     \u001b[43membedded_db\u001b[49m\u001b[38;5;241;43m.\u001b[39;49m\u001b[43mstart\u001b[49m\u001b[43m(\u001b[49m\u001b[43m)\u001b[49m\n\u001b[1;32m    105\u001b[0m     \u001b[38;5;28;01mreturn\u001b[39;00m (\n\u001b[1;32m    106\u001b[0m         ConnectionParams(\n\u001b[1;32m    107\u001b[0m             http\u001b[38;5;241m=\u001b[39mProtocolParams(\n\u001b[0;32m   (...)\u001b[0m\n\u001b[1;32m    114\u001b[0m         embedded_db,\n\u001b[1;32m    115\u001b[0m     )\n\u001b[1;32m    117\u001b[0m \u001b[38;5;28;01mif\u001b[39;00m \u001b[38;5;129;01mnot\u001b[39;00m \u001b[38;5;28misinstance\u001b[39m(connection_params, ConnectionParams):\n",
      "File \u001b[0;32m~/Desktop/Orchestrating-workflows-for-GenAI-Applications/.venv/lib/python3.10/site-packages/weaviate/embedded.py:323\u001b[0m, in \u001b[0;36mEmbeddedV4.start\u001b[0;34m(self)\u001b[0m\n\u001b[1;32m    321\u001b[0m up \u001b[38;5;241m=\u001b[39m \u001b[38;5;28mself\u001b[39m\u001b[38;5;241m.\u001b[39m__is_listening()\n\u001b[1;32m    322\u001b[0m \u001b[38;5;28;01mif\u001b[39;00m up[\u001b[38;5;241m0\u001b[39m] \u001b[38;5;129;01mand\u001b[39;00m up[\u001b[38;5;241m1\u001b[39m]:\n\u001b[0;32m--> 323\u001b[0m     \u001b[38;5;28;01mraise\u001b[39;00m WeaviateStartUpError(\n\u001b[1;32m    324\u001b[0m         \u001b[38;5;124mf\u001b[39m\u001b[38;5;124m\"\u001b[39m\u001b[38;5;124mEmbedded DB did not start because processes are already listening on ports http:\u001b[39m\u001b[38;5;132;01m{\u001b[39;00m\u001b[38;5;28mself\u001b[39m\u001b[38;5;241m.\u001b[39moptions\u001b[38;5;241m.\u001b[39mport\u001b[38;5;132;01m}\u001b[39;00m\u001b[38;5;124m and grpc:\u001b[39m\u001b[38;5;132;01m{\u001b[39;00m\u001b[38;5;28mself\u001b[39m\u001b[38;5;241m.\u001b[39mgrpc_port\u001b[38;5;132;01m}\u001b[39;00m\u001b[38;5;124m\"\u001b[39m\n\u001b[1;32m    325\u001b[0m         \u001b[38;5;124mf\u001b[39m\u001b[38;5;124m\"\u001b[39m\u001b[38;5;124muse weaviate.connect_to_local(port=\u001b[39m\u001b[38;5;132;01m{\u001b[39;00m\u001b[38;5;28mself\u001b[39m\u001b[38;5;241m.\u001b[39moptions\u001b[38;5;241m.\u001b[39mport\u001b[38;5;132;01m}\u001b[39;00m\u001b[38;5;124m, grpc_port=\u001b[39m\u001b[38;5;132;01m{\u001b[39;00m\u001b[38;5;28mself\u001b[39m\u001b[38;5;241m.\u001b[39moptions\u001b[38;5;241m.\u001b[39mgrpc_port\u001b[38;5;132;01m}\u001b[39;00m\u001b[38;5;124m) to connect to the existing instance\u001b[39m\u001b[38;5;124m\"\u001b[39m\n\u001b[1;32m    326\u001b[0m     )\n\u001b[1;32m    327\u001b[0m \u001b[38;5;28;01melif\u001b[39;00m up[\u001b[38;5;241m0\u001b[39m] \u001b[38;5;129;01mand\u001b[39;00m \u001b[38;5;129;01mnot\u001b[39;00m up[\u001b[38;5;241m1\u001b[39m]:\n\u001b[1;32m    328\u001b[0m     \u001b[38;5;28;01mraise\u001b[39;00m WeaviateStartUpError(\n\u001b[1;32m    329\u001b[0m         \u001b[38;5;124mf\u001b[39m\u001b[38;5;124m\"\u001b[39m\u001b[38;5;124mEmbedded DB did not start because a process is already listening on port http:\u001b[39m\u001b[38;5;132;01m{\u001b[39;00m\u001b[38;5;28mself\u001b[39m\u001b[38;5;241m.\u001b[39moptions\u001b[38;5;241m.\u001b[39mport\u001b[38;5;132;01m}\u001b[39;00m\u001b[38;5;124m\"\u001b[39m\n\u001b[1;32m    330\u001b[0m         \u001b[38;5;124m\"\u001b[39m\u001b[38;5;124mlook for another free port for the HTTP connection to you embedded instance\u001b[39m\u001b[38;5;124m\"\u001b[39m\n\u001b[1;32m    331\u001b[0m     )\n",
      "\u001b[0;31mWeaviateStartUpError\u001b[0m: Embedded DB did not start because processes are already listening on ports http:8079 and grpc:50050use weaviate.connect_to_local(port=8079, grpc_port=50050) to connect to the existing instance"
     ]
    }
   ],
   "source": [
    "with suppress_output():\n",
    "    client = weaviate.connect_to_embedded(\n",
    "        persistence_data_path= \"tmp/weaviate\",\n",
    "    )\n",
    "print(\"Started new embedded Weaviate instance.\")\n",
    "print(f\"Client is ready: {client.is_ready()}\")"
   ]
  },
  {
   "cell_type": "markdown",
   "id": "8c397152",
   "metadata": {},
   "source": [
    "Create the collection"
   ]
  },
  {
   "cell_type": "code",
   "execution_count": null,
   "id": "aef1df7f",
   "metadata": {},
   "outputs": [
    {
     "name": "stdout",
     "output_type": "stream",
     "text": [
      "Collection Books already exists. No action taken.\n"
     ]
    }
   ],
   "source": [
    "existing_collections = client.collections.list_all()\n",
    "existing_collection_names = existing_collections.keys()\n",
    "\n",
    "if COLLECTION_NAME not in existing_collection_names:\n",
    "    print(f\"Collection {COLLECTION_NAME} does not exist yet. Creating it...\")\n",
    "    collection = client.collections.create(name=COLLECTION_NAME)\n",
    "    print(f\"Collection {COLLECTION_NAME} created successfully.\")\n",
    "else:\n",
    "    print(f\"Collection {COLLECTION_NAME} already exists. No action taken.\")\n",
    "    collection = client.collections.get(COLLECTION_NAME)"
   ]
  },
  {
   "cell_type": "markdown",
   "id": "e016e5d2",
   "metadata": {},
   "source": [
    "Extract text from local files"
   ]
  },
  {
   "cell_type": "code",
   "execution_count": null,
   "id": "2dcb269d",
   "metadata": {},
   "outputs": [
    {
     "name": "stdout",
     "output_type": "stream",
     "text": [
      "The following files with book descriptions were found: ['book_descriptions_2.txt', 'book_descriptions_1.txt']\n"
     ]
    }
   ],
   "source": [
    "# list the book description files\n",
    "book_description_files = [\n",
    "    f for f in os.listdir(BOOK_DESCRIPTION_FOLDER)\n",
    "    if f.endswith('.txt')\n",
    "]\n",
    "\n",
    "print(f\"The following files with book descriptions were found: {book_description_files}\")"
   ]
  },
  {
   "cell_type": "code",
   "execution_count": null,
   "id": "8fc41fac",
   "metadata": {},
   "outputs": [],
   "source": [
    "list_of_book_data = []\n",
    "\n",
    "for book_description_file in book_description_files:\n",
    "    with open(os.path.join(BOOK_DESCRIPTION_FOLDER, book_description_file), \"r\") as f:\n",
    "        book_descriptions = f.readlines()\n",
    "\n",
    "    titles = [\n",
    "        book_description.split(\":::\")[1].strip()\n",
    "        for book_description in book_descriptions\n",
    "    ]\n",
    "\n",
    "    authors = [\n",
    "        book_description.split(\":::\")[2].strip()\n",
    "        for book_description in book_descriptions\n",
    "    ]\n",
    "    book_description_text = [\n",
    "        book_description.split(\":::\")[3].strip()\n",
    "        for book_description in book_descriptions\n",
    "    ]\n",
    "\n",
    "    book_descriptions = [\n",
    "        {\n",
    "            \"title\": title,\n",
    "            \"author\": author,\n",
    "            \"description\": description,\n",
    "        }\n",
    "        for title, author, description in zip(\n",
    "            titles, authors, book_description_text\n",
    "        )\n",
    "    ]\n",
    "\n",
    "    list_of_book_data.append(book_descriptions)\n"
   ]
  },
  {
   "cell_type": "code",
   "execution_count": null,
   "id": "9d155dc1",
   "metadata": {},
   "outputs": [
    {
     "name": "stderr",
     "output_type": "stream",
     "text": [
      "/home/alla/Desktop/Orchestrating-workflows-for-GenAI-Applications/.venv/lib/python3.10/site-packages/IPython/core/display.py:664: UserWarning: JSON expects JSONable dict or list, not JSON strings\n",
      "  warnings.warn(\"JSON expects JSONable dict or list, not JSON strings\")\n"
     ]
    },
    {
     "data": {
      "text/plain": [
       "<IPython.core.display.JSON object>"
      ]
     },
     "execution_count": 10,
     "metadata": {
      "application/json": {
       "expanded": false,
       "root": "root"
      }
     },
     "output_type": "execute_result"
    }
   ],
   "source": [
    "JSON(json.dumps(list_of_book_data))"
   ]
  },
  {
   "cell_type": "markdown",
   "id": "2b56b219",
   "metadata": {},
   "source": [
    "Create vector embeddings from descriptions"
   ]
  },
  {
   "cell_type": "code",
   "execution_count": null,
   "id": "16ef4ee9",
   "metadata": {},
   "outputs": [
    {
     "name": "stderr",
     "output_type": "stream",
     "text": [
      "Fetching 5 files: 100%|██████████| 5/5 [00:02<00:00,  2.02it/s]\n"
     ]
    }
   ],
   "source": [
    "embedding_model = TextEmbedding(EMBEDDING_MODEL_NAME)  \n",
    "\n",
    "list_of_description_embeddings = []\n",
    "\n",
    "for book_data in list_of_book_data:\n",
    "    book_descriptions = [book[\"description\"] for book in book_data]\n",
    "    description_embeddings = [\n",
    "        list(embedding_model.embed([desc]))[0] for desc in book_descriptions\n",
    "    ]\n",
    "    list_of_description_embeddings.append(description_embeddings)"
   ]
  },
  {
   "cell_type": "markdown",
   "id": "a7907172",
   "metadata": {},
   "source": [
    "Load embeddings to Weaviate\n",
    "\n",
    "In the books collection of Weaviate, We will create an item for each data object (book). The item has two attributes:\n",
    "\n",
    "- vector: which represents the vector embedding of the book text description\n",
    "- properties: which is a python dictionary that contains the book metadata: title, author and text description."
   ]
  },
  {
   "cell_type": "code",
   "execution_count": null,
   "id": "43f08769",
   "metadata": {},
   "outputs": [],
   "source": [
    "for book_data_list, emb_list in zip(list_of_book_data, list_of_description_embeddings):\n",
    "    items = []\n",
    "    \n",
    "    for book_data, emb in zip(book_data_list, emb_list):\n",
    "        item = DataObject(\n",
    "            properties={\n",
    "                \"title\": book_data[\"title\"],\n",
    "                \"author\": book_data[\"author\"],\n",
    "                \"description\": book_data[\"description\"],\n",
    "            },\n",
    "            vector=emb\n",
    "        )\n",
    "        items.append(item)\n",
    "    \n",
    "    collection.data.insert_many(items)"
   ]
  },
  {
   "cell_type": "markdown",
   "id": "63ab31aa",
   "metadata": {},
   "source": [
    "Query for a book recommendation using semantic search\n",
    "\n",
    "- query.near_vector of the Weaviate Books collection"
   ]
  },
  {
   "cell_type": "code",
   "execution_count": null,
   "id": "04a3d2bd",
   "metadata": {},
   "outputs": [],
   "source": [
    "query_str = \"A philosophical book\"\n",
    "\n",
    "embedding_model = TextEmbedding(EMBEDDING_MODEL_NAME)  \n",
    "collection = client.collections.get(COLLECTION_NAME)\n",
    "\n",
    "query_emb = list(embedding_model.embed([query_str]))[0]\n",
    "\n",
    "results = collection.query.near_vector(\n",
    "    near_vector=query_emb,\n",
    "    limit=1,\n",
    ")\n",
    "for result in results.objects:\n",
    "    print(f\"You should read: {result.properties['title']} by {result.properties['author']}\")\n",
    "    print(\"Description:\")\n",
    "    print(result.properties[\"description\"])"
   ]
  }
 ],
 "metadata": {
  "kernelspec": {
   "display_name": ".venv",
   "language": "python",
   "name": "python3"
  },
  "language_info": {
   "codemirror_mode": {
    "name": "ipython",
    "version": 3
   },
   "file_extension": ".py",
   "mimetype": "text/x-python",
   "name": "python",
   "nbconvert_exporter": "python",
   "pygments_lexer": "ipython3",
   "version": "3.10.12"
  }
 },
 "nbformat": 4,
 "nbformat_minor": 5
}
